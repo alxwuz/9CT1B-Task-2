{
 "cells": [
  {
   "attachments": {},
   "cell_type": "markdown",
   "metadata": {},
   "source": [
    "# Documentation\n",
    "24/7/24 Started finding a suitable kaggle dataset to use for the assessment.\n",
    "\n",
    "24/7/24 Found a dataset on the top 1000 IMDB movies (see imdb_top_1000.csv).\n",
    "\n",
    "24/7/24 Started the Identifying and Defining worksheet.\n",
    "\n"
   ]
  },
  {
   "attachments": {},
   "cell_type": "markdown",
   "metadata": {},
   "source": [
    "## Learning Intentions:\n",
    "Specify the functional requirements of a data analysis, including stating the purpose of a solution, describing use cases, and developing test cases of inputs and expected outputs.\n",
    "Specify the non-functional requirements of a data analysis.\n",
    "Success Criteria:\n",
    "- I can clearly state the purpose of a data analysis solution.\n",
    "- I can describe use cases that outline how the data analysis solution will be used.\n",
    "- I can develop test cases that include inputs and expected outputs for the data analysis solution.\n",
    "- I can specify non-functional requirements such as performance, scalability, security, and usability for a data analysis solution.\n",
    "- I can explain the importance of non-functional requirements in ensuring the overall quality and effectiveness of a data analysis solution.\n",
    "\n",
    "## Identifying and Defining\n",
    "- Data: I am looking to analyze the top 1000 IMDb rated movies.\n",
    "- Goal: My goal is to find what movies are highly rated and other characteristices of it (e.g. production date and genre)\n",
    "- Source: The source of the dataset is from \"Harshit Shankhdhar\", a user on Kaggle who made the .csv file.\n",
    "- Access: This file is publicly available on kaggle, you can find it at https://www.kaggle.com/datasets/harshitshankhdhar/imdb-dataset-of-top-1000-movies-and-tv-shows.\n",
    "- Access Method: It will be accessed as a .csv file.\n",
    "\n",
    "## Functional Requirements\n",
    "- Data Loading: All files must be able to open and work, not being corrupted or broken of any sort. This is to ensure that all the work can be correctly viewed and graded.\n",
    "- Data Cleaning: The program needs to be able to handle any missing values while also being able to filter, sort and group specific data in the file, such as by production date, name, etc.\n",
    "- Data Analysis: It also needs to be able to analyze the data by finding the mean, median, mode and quartiles.\n",
    "- Data Visualisation: The data will be visualised in pandas dataframes, as well as being shown in different types of matplotlib graphs.\n",
    "- Data Reporting: The final input of the data sorting will be put into a new csv file in the same folder as the code. For example, if the user wants to sort the IMDb dataset with only 9+ ratings, then the file will be called \"imdb_top_1000_updated.csv\".\n",
    "\n",
    "- The Code\n",
    "    - Description: It must be able to efficiently analyse the dataset and sort the data to whatever the user of the program says, like movies from a specific year.\n",
    "    - Input: The program will ask what the user wants to sort the data from.\n",
    "    - Output: The person's input will be put into the code and sorted, which then is output onto a graph or a table for it to work. There will also be a .csv file to show the result as well.\n",
    "\n",
    "## Use Cases\n",
    "Actor: User\n",
    "Goal: To find the highest rated movie in the dataset.\n",
    "Preconditions: User can run the written code.\n",
    "Main Flow:\n",
    "1. User uses the UI to navigate the code.\n",
    "2. System asks what the user wants.\n",
    "3. User says the highest rated movie.\n",
    "4. System identifies and gives it.\n",
    "Postconditions: The movie has been found.\n",
    "\n",
    "## Non-Functional Requirements\n",
    "- Usability: The user interface needs to have an easy-to-use UI, where you can know what you want to sort out efficiently. The \"README\" document will need to have instructions on what to do and how to use the sorting system.\n",
    "- Reliability: If there is ever an error (e.g. not finding the right movie), there will be suggestions on how to fix it, like not entering the right spelling of the category."
   ]
  }
 ],
 "metadata": {
  "language_info": {
   "name": "python"
  },
  "orig_nbformat": 4
 },
 "nbformat": 4,
 "nbformat_minor": 2
}
