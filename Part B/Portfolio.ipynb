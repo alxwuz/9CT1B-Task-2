{
 "cells": [
  {
   "attachments": {},
   "cell_type": "markdown",
   "metadata": {},
   "source": [
    "# Visualising and Identifying\n"
   ]
  },
  {
   "cell_type": "markdown",
   "metadata": {},
   "source": [
    "# Documentation\n",
    "24/7/24 Started finding a suitable kaggle dataset to use for the assessment.\n",
    "\n",
    "24/7/24 Found a dataset on the top 1000 IMDB movies (see imdb_top_1000.csv).\n",
    "\n"
   ]
  }
 ],
 "metadata": {
  "language_info": {
   "name": "python"
  },
  "orig_nbformat": 4
 },
 "nbformat": 4,
 "nbformat_minor": 2
}
